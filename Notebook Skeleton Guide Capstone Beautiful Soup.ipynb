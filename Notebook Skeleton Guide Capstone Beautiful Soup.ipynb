{
 "cells": [
  {
   "cell_type": "markdown",
   "metadata": {},
   "source": [
    "# Capstone Webscrapping using BeautifulSoup\n",
    "\n",
    "\n",
    "## background\n",
    "\n",
    "At this Notebook is the results for the web scraping of *CoinGecko* Website to search for Ethereum Volume / day. *CoinGecko* itself is a website to democratize the access of crypto data and empower users with actionable insights. *Coingecko* also deep dive into the crypto space to deliver valuable insights to the users through Coingecko cryptocurrency reports, as well as their publications, newsletter and more.\n",
    "\n",
    "On this notebook we will scrap 2 points from CoinGecko, one is Volume and the other is the Date of the Volume in the last 2 months to analyze the trend on Ethereum.\n",
    "\n",
    "## Requesting the Data and Creating a BeautifulSoup\n",
    "\n",
    "Let's begin with requesting the web from the site with `get` method."
   ]
  },
  {
   "cell_type": "code",
   "execution_count": 55,
   "metadata": {
    "ExecuteTime": {
     "end_time": "2020-01-13T05:12:23.275508Z",
     "start_time": "2020-01-13T05:12:20.009898Z"
    }
   },
   "outputs": [],
   "source": [
    "import requests\n",
    "url_get = requests.get('https://www.coingecko.com/en/coins/ethereum/historical_data/?start_date=2020-01-01&end_date=2021-06-30', headers = { 'User-Agent': 'Popular browser\\'s user-agent', })"
   ]
  },
  {
   "cell_type": "markdown",
   "metadata": {},
   "source": [
    "To visualize what exactly you get from the `request.get`, we can use .content so ee what we exactly get, in here i slice it so it won't make our screen full of the html we get from the page. You can delete the slicing if you want to see what we fully get."
   ]
  },
  {
   "cell_type": "code",
   "execution_count": 56,
   "metadata": {
    "ExecuteTime": {
     "end_time": "2020-01-13T05:12:23.290648Z",
     "start_time": "2020-01-13T05:12:23.277650Z"
    },
    "scrolled": false
   },
   "outputs": [
    {
     "data": {
      "text/plain": [
       "b'!DOCTYPE html>\\n<html lang=\"en\">\\n<head>\\n<script src=\"/cdn-cgi/apps/head/gYtXOyllgyP3-Z2iKTP8rRWGBm4.js\"></script><script async defer src=\"https://www.googleoptimize.com/optimize.js?id=GTM-W3CD992\"></script>\\n<meta charset=\"utf-8\">\\n<meta http-equiv=\"X-UA-Compatible\" content=\"IE=edge\">\\n<meta name=\"viewport\" content=\"width=device-width, initial-scale=1.0\">\\n<link rel=\"shortcut icon\" href=\"/favicon.ico\">\\n<link type=\"application/opensearchdescription+xml\" rel=\"search\" href=\"/OpensearchDescription.xml\" '"
      ]
     },
     "execution_count": 56,
     "metadata": {},
     "output_type": "execute_result"
    }
   ],
   "source": [
    "url_get.content[1:500]"
   ]
  },
  {
   "cell_type": "markdown",
   "metadata": {},
   "source": [
    "As we can see we get a very unstructured and complex html, which actually contains the codes needed to show the webpages on your web browser. But we as human still confused what and where we can use that piece of code, so here where we use the beautifulsoup. Beautiful soup class will result a beautifulsoup object. Beautiful Soup transforms a complex HTML document into a complex tree of Python objects. \n",
    "\n",
    "Let's make Beautiful soup object and feel free to explore the object here."
   ]
  },
  {
   "cell_type": "code",
   "execution_count": 57,
   "metadata": {
    "ExecuteTime": {
     "end_time": "2020-01-13T05:12:23.808122Z",
     "start_time": "2020-01-13T05:12:23.292610Z"
    }
   },
   "outputs": [],
   "source": [
    "from bs4 import BeautifulSoup \n",
    "\n",
    "soup = BeautifulSoup(url_get.content,\"html.parser\")"
   ]
  },
  {
   "cell_type": "markdown",
   "metadata": {},
   "source": [
    "## Finding the right key to scrap the data & Extracting the right information"
   ]
  },
  {
   "cell_type": "markdown",
   "metadata": {},
   "source": [
    "Find the key and put the key into the `.find()` Put all the exploring the right key at this cell. On the inspect element of the Main Table There is Date, Market Cap, Volume, Open Price, and Close Price."
   ]
  },
  {
   "cell_type": "code",
   "execution_count": 58,
   "metadata": {
    "ExecuteTime": {
     "end_time": "2020-01-13T05:12:23.878904Z",
     "start_time": "2020-01-13T05:12:23.854974Z"
    }
   },
   "outputs": [
    {
     "name": "stdout",
     "output_type": "stream",
     "text": [
      "table class=\"table table-striped text-sm text-lg-normal\">\n",
      " <thead>\n",
      "  <tr>\n",
      "   <th class=\"text-center\">\n",
      "    Date\n",
      "   </th>\n",
      "   <th class=\"text-center\">\n",
      "    Market Cap\n",
      "   </th>\n",
      "   <th class=\"text-center\">\n",
      "    Volume\n",
      "   </th>\n",
      "   <th class=\"text-center\">\n",
      "    Open\n",
      "   </th>\n",
      "   <th class=\"text-center\">\n",
      "    Close\n",
      "   </th>\n",
      "  </tr>\n",
      " </thead>\n",
      " <tbody>\n",
      "  <tr>\n",
      "   <th class=\"font-semibold text-center\" scope=\"row\">\n",
      "    2021-06-30\n",
      "   </th>\n",
      "   <td class=\"text-center\">\n",
      "    $253,607,549,372\n",
      "   </td>\n",
      "   <td class=\"text-center\">\n",
      "    $27,149,143,847\n",
      "   </td>\n",
      "   <td class=\"text-center\">\n",
      "    $2,169.40\n",
      "   </td>\n",
      "   <td class=\"text-center\">\n",
      "    N/A\n",
      "   </td>\n",
      "  </tr>\n",
      "  <tr>\n",
      "   <th class=\"font-semibold text-center\" scope=\"row\">\n",
      "    2021-06-29\n",
      "   </th>\n",
      "   <td class=\"text-c\n"
     ]
    }
   ],
   "source": [
    "table = soup.find('table', attrs={'class':'table table-striped text-sm text-lg-normal'})\n",
    "print(table.prettify()[1:750])"
   ]
  },
  {
   "cell_type": "markdown",
   "metadata": {},
   "source": [
    "On this codes section we will find the amount of row length that the website gives so we can predict the amount days to find the correct trends of Ethereum."
   ]
  },
  {
   "cell_type": "code",
   "execution_count": 59,
   "metadata": {},
   "outputs": [
    {
     "data": {
      "text/plain": [
       "60"
      ]
     },
     "execution_count": 59,
     "metadata": {},
     "output_type": "execute_result"
    }
   ],
   "source": [
    "row = table.find_all('th', attrs={'class':'font-semibold text-center'})\n",
    "row_length = len(row)\n",
    "row_length"
   ]
  },
  {
   "cell_type": "markdown",
   "metadata": {},
   "source": [
    "The Scraping process of CoinGecko is pretty Challeging as the column to collect the data is on main Class 'text-center' so in the conclusion the data is still **NOT CORRECT** as the data still in one big mess."
   ]
  },
  {
   "cell_type": "code",
   "execution_count": 60,
   "metadata": {
    "ExecuteTime": {
     "end_time": "2020-01-13T05:12:24.008256Z",
     "start_time": "2020-01-13T05:12:23.980358Z"
    },
    "scrolled": true
   },
   "outputs": [
    {
     "data": {
      "text/plain": [
       "[('2021-06-29', '$243,040,539,437'),\n",
       " ('2021-06-28', '$30,629,329,806'),\n",
       " ('2021-06-27', '$2,087.52'),\n",
       " ('2021-06-26', '$2,169.40'),\n",
       " ('2021-06-25', '$229,354,016,311'),\n",
       " ('2021-06-24', '$24,316,408,028'),\n",
       " ('2021-06-23', '$1,973.93'),\n",
       " ('2021-06-22', '$2,087.52'),\n",
       " ('2021-06-21', '$209,989,265,221'),\n",
       " ('2021-06-20', '$24,249,510,321'),\n",
       " ('2021-06-19', '$1,817.05'),\n",
       " ('2021-06-18', '$1,973.93'),\n",
       " ('2021-06-17', '$213,871,849,532'),\n",
       " ('2021-06-16', '$25,981,381,067'),\n",
       " ('2021-06-15', '$1,833.46'),\n",
       " ('2021-06-14', '$1,817.05'),\n",
       " ('2021-06-13', '$231,644,258,719'),\n",
       " ('2021-06-12', '$22,447,489,242'),\n",
       " ('2021-06-11', '$1,990.08'),\n",
       " ('2021-06-10', '$1,833.46'),\n",
       " ('2021-06-09', '$229,518,675,837'),\n",
       " ('2021-06-08', '$28,098,744,045'),\n",
       " ('2021-06-07', '$1,971.11'),\n",
       " ('2021-06-06', '$1,990.08'),\n",
       " ('2021-06-05', '$216,876,757,209'),\n",
       " ('2021-06-04', '$38,755,019,937'),\n",
       " ('2021-06-03', '$1,875.36'),\n",
       " ('2021-06-02', '$1,971.11'),\n",
       " ('2021-06-01', '$223,202,708,789'),\n",
       " ('2021-05-31', '$39,499,960,408'),\n",
       " ('2021-05-30', '$1,900.12'),\n",
       " ('2021-05-29', '$1,875.36'),\n",
       " ('2021-05-28', '$261,478,202,409'),\n",
       " ('2021-05-27', '$26,235,850,447'),\n",
       " ('2021-05-26', '$2,251.56'),\n",
       " ('2021-05-25', '$1,900.12'),\n",
       " ('2021-05-24', '$253,396,709,039'),\n",
       " ('2021-05-23', '$20,456,963,375'),\n",
       " ('2021-05-22', '$2,176.31'),\n",
       " ('2021-05-21', '$2,251.56'),\n",
       " ('2021-05-20', '$260,039,646,334'),\n",
       " ('2021-05-19', '$26,204,484,921'),\n",
       " ('2021-05-18', '$2,231.55'),\n",
       " ('2021-05-17', '$2,176.31'),\n",
       " ('2021-05-16', '$275,415,199,642'),\n",
       " ('2021-05-15', '$25,708,624,827'),\n",
       " ('2021-05-14', '$2,380.74'),\n",
       " ('2021-05-13', '$2,231.55'),\n",
       " ('2021-05-12', '$274,666,655,405'),\n",
       " ('2021-05-11', '$26,150,320,395'),\n",
       " ('2021-05-10', '$2,365.87'),\n",
       " ('2021-05-09', '$2,380.74'),\n",
       " ('2021-05-08', '$298,324,322,330'),\n",
       " ('2021-05-07', '$26,803,957,680'),\n",
       " ('2021-05-06', '$2,561.19'),\n",
       " ('2021-05-05', '$2,365.87'),\n",
       " ('2021-05-04', '$300,405,113,218'),\n",
       " ('2021-05-03', '$28,128,172,338'),\n",
       " ('2021-05-02', '$2,587.38')]"
      ]
     },
     "execution_count": 60,
     "metadata": {},
     "output_type": "execute_result"
    }
   ],
   "source": [
    "temp = [] #init\n",
    "\n",
    "for i in range(1, row_length):\n",
    "    \n",
    "    #get date \n",
    "    date = table.find_all('th', attrs={'class':'font-semibold text-center'})[i].text\n",
    "    \n",
    "    #get volume\n",
    "    volume = table.find_all('td', attrs={'class':'text-center'})[i * 1 + 3].text\n",
    "    volume = volume.strip() #to remove excess white space \n",
    "    \n",
    "    temp.append((date,volume)) \n",
    "    \n",
    "temp "
   ]
  },
  {
   "cell_type": "markdown",
   "metadata": {},
   "source": [
    "## Creating data frame & Data wrangling"
   ]
  },
  {
   "cell_type": "markdown",
   "metadata": {},
   "source": [
    "The Dataframe from the Website is completed to get the Date and Volume Datas."
   ]
  },
  {
   "cell_type": "code",
   "execution_count": 61,
   "metadata": {
    "ExecuteTime": {
     "end_time": "2020-01-13T05:12:41.517372Z",
     "start_time": "2020-01-13T05:12:29.130015Z"
    },
    "scrolled": false
   },
   "outputs": [
    {
     "data": {
      "text/html": [
       "<div>\n",
       "<style scoped>\n",
       "    .dataframe tbody tr th:only-of-type {\n",
       "        vertical-align: middle;\n",
       "    }\n",
       "\n",
       "    .dataframe tbody tr th {\n",
       "        vertical-align: top;\n",
       "    }\n",
       "\n",
       "    .dataframe thead th {\n",
       "        text-align: right;\n",
       "    }\n",
       "</style>\n",
       "<table border=\"1\" class=\"dataframe\">\n",
       "  <thead>\n",
       "    <tr style=\"text-align: right;\">\n",
       "      <th></th>\n",
       "      <th>date</th>\n",
       "      <th>volume</th>\n",
       "    </tr>\n",
       "  </thead>\n",
       "  <tbody>\n",
       "    <tr>\n",
       "      <th>0</th>\n",
       "      <td>2021-06-29</td>\n",
       "      <td>$243,040,539,437</td>\n",
       "    </tr>\n",
       "    <tr>\n",
       "      <th>1</th>\n",
       "      <td>2021-06-28</td>\n",
       "      <td>$30,629,329,806</td>\n",
       "    </tr>\n",
       "    <tr>\n",
       "      <th>2</th>\n",
       "      <td>2021-06-27</td>\n",
       "      <td>$2,087.52</td>\n",
       "    </tr>\n",
       "    <tr>\n",
       "      <th>3</th>\n",
       "      <td>2021-06-26</td>\n",
       "      <td>$2,169.40</td>\n",
       "    </tr>\n",
       "    <tr>\n",
       "      <th>4</th>\n",
       "      <td>2021-06-25</td>\n",
       "      <td>$229,354,016,311</td>\n",
       "    </tr>\n",
       "  </tbody>\n",
       "</table>\n",
       "</div>"
      ],
      "text/plain": [
       "         date            volume\n",
       "0  2021-06-29  $243,040,539,437\n",
       "1  2021-06-28   $30,629,329,806\n",
       "2  2021-06-27         $2,087.52\n",
       "3  2021-06-26         $2,169.40\n",
       "4  2021-06-25  $229,354,016,311"
      ]
     },
     "execution_count": 61,
     "metadata": {},
     "output_type": "execute_result"
    }
   ],
   "source": [
    "import pandas as pd\n",
    "\n",
    "df = pd.DataFrame(temp, columns = ('date','volume'))\n",
    "df.head()"
   ]
  },
  {
   "cell_type": "markdown",
   "metadata": {},
   "source": [
    "The Data Cleaning is a must as the all of the data still got commas, Dots, and Dollar Sign Currencies that not allowing the data to change from object to float."
   ]
  },
  {
   "cell_type": "code",
   "execution_count": 62,
   "metadata": {
    "ExecuteTime": {
     "end_time": "2020-01-13T05:12:59.165559Z",
     "start_time": "2020-01-13T05:12:58.910012Z"
    },
    "scrolled": false
   },
   "outputs": [
    {
     "data": {
      "text/plain": [
       "date      object\n",
       "volume    object\n",
       "dtype: object"
      ]
     },
     "execution_count": 62,
     "metadata": {},
     "output_type": "execute_result"
    }
   ],
   "source": [
    "df.dtypes"
   ]
  },
  {
   "cell_type": "code",
   "execution_count": 63,
   "metadata": {},
   "outputs": [
    {
     "name": "stderr",
     "output_type": "stream",
     "text": [
      "C:\\Users\\Dimas Rizki Haikal\\AppData\\Local\\Temp\\ipykernel_3768\\4196332897.py:1: FutureWarning: The default value of regex will change from True to False in a future version. In addition, single character regular expressions will *not* be treated as literal strings when regex=True.\n",
      "  df['volume'] = df['volume'].str.replace(\"$\",\"\")\n",
      "C:\\Users\\Dimas Rizki Haikal\\AppData\\Local\\Temp\\ipykernel_3768\\4196332897.py:3: FutureWarning: The default value of regex will change from True to False in a future version. In addition, single character regular expressions will *not* be treated as literal strings when regex=True.\n",
      "  df['volume'] = df['volume'].str.replace(\".\",\"\")\n"
     ]
    },
    {
     "data": {
      "text/plain": [
       "date      datetime64[ns]\n",
       "volume           float64\n",
       "dtype: object"
      ]
     },
     "execution_count": 63,
     "metadata": {},
     "output_type": "execute_result"
    }
   ],
   "source": [
    "df['volume'] = df['volume'].str.replace(\"$\",\"\")\n",
    "df['volume'] = df['volume'].str.replace(\",\",\"\")\n",
    "df['volume'] = df['volume'].str.replace(\".\",\"\")\n",
    "df['volume'] = df['volume'].astype('float64')\n",
    "df['date'] = df['date'].astype('datetime64')\n",
    "\n",
    "df.dtypes"
   ]
  },
  {
   "cell_type": "code",
   "execution_count": 64,
   "metadata": {},
   "outputs": [
    {
     "data": {
      "text/html": [
       "<div>\n",
       "<style scoped>\n",
       "    .dataframe tbody tr th:only-of-type {\n",
       "        vertical-align: middle;\n",
       "    }\n",
       "\n",
       "    .dataframe tbody tr th {\n",
       "        vertical-align: top;\n",
       "    }\n",
       "\n",
       "    .dataframe thead th {\n",
       "        text-align: right;\n",
       "    }\n",
       "</style>\n",
       "<table border=\"1\" class=\"dataframe\">\n",
       "  <thead>\n",
       "    <tr style=\"text-align: right;\">\n",
       "      <th></th>\n",
       "      <th>date</th>\n",
       "      <th>volume</th>\n",
       "    </tr>\n",
       "  </thead>\n",
       "  <tbody>\n",
       "    <tr>\n",
       "      <th>0</th>\n",
       "      <td>2021-06-29</td>\n",
       "      <td>2.430405e+11</td>\n",
       "    </tr>\n",
       "    <tr>\n",
       "      <th>1</th>\n",
       "      <td>2021-06-28</td>\n",
       "      <td>3.062933e+10</td>\n",
       "    </tr>\n",
       "    <tr>\n",
       "      <th>2</th>\n",
       "      <td>2021-06-27</td>\n",
       "      <td>2.087520e+05</td>\n",
       "    </tr>\n",
       "    <tr>\n",
       "      <th>3</th>\n",
       "      <td>2021-06-26</td>\n",
       "      <td>2.169400e+05</td>\n",
       "    </tr>\n",
       "    <tr>\n",
       "      <th>4</th>\n",
       "      <td>2021-06-25</td>\n",
       "      <td>2.293540e+11</td>\n",
       "    </tr>\n",
       "  </tbody>\n",
       "</table>\n",
       "</div>"
      ],
      "text/plain": [
       "        date        volume\n",
       "0 2021-06-29  2.430405e+11\n",
       "1 2021-06-28  3.062933e+10\n",
       "2 2021-06-27  2.087520e+05\n",
       "3 2021-06-26  2.169400e+05\n",
       "4 2021-06-25  2.293540e+11"
      ]
     },
     "execution_count": 64,
     "metadata": {},
     "output_type": "execute_result"
    }
   ],
   "source": [
    "df.head()"
   ]
  },
  {
   "cell_type": "markdown",
   "metadata": {},
   "source": [
    "this is Data Visualization of CoinGecko."
   ]
  },
  {
   "cell_type": "code",
   "execution_count": 65,
   "metadata": {
    "scrolled": false
   },
   "outputs": [],
   "source": [
    "df = df.set_index('date')"
   ]
  },
  {
   "cell_type": "code",
   "execution_count": 66,
   "metadata": {
    "scrolled": false
   },
   "outputs": [
    {
     "data": {
      "text/plain": [
       "<AxesSubplot:xlabel='date'>"
      ]
     },
     "execution_count": 66,
     "metadata": {},
     "output_type": "execute_result"
    },
    {
     "data": {
      "image/png": "[encoded data removed]",
      "text/plain": [
       "<Figure size 432x288 with 1 Axes>"
      ]
     },
     "metadata": {
      "needs_background": "light"
     },
     "output_type": "display_data"
    }
   ],
   "source": [
    "df.plot()"
   ]
  },
  {
   "cell_type": "markdown",
   "metadata": {},
   "source": [
    "### Implementing your webscrapping to the flask dashboard\n",
    "\n",
    "- Copy paste all of your web scrapping process to the desired position on the `app.py`\n",
    "- Changing the title of the dasboard at `index.html`"
   ]
  },
  {
   "cell_type": "markdown",
   "metadata": {},
   "source": [
    "## Finishing This Notebook with Your Analysis and Conclusion"
   ]
  },
  {
   "cell_type": "markdown",
   "metadata": {},
   "source": [
    "On my Analysis the Data Scraping on CoinGecko is pretty challeging for beginner like me to find the correct *looping* system to get the correct data on 1 big sub class 'text-center'.\n",
    "\n",
    "So the conclusion is the volume of Entherium May 2021 to June 2021 has fluctuation on 1 weeks but constantly staying at around 50 million $."
   ]
  }
 ],
 "metadata": {
  "kernelspec": {
   "display_name": "capstone",
   "language": "python",
   "name": "capstone"
  },
  "language_info": {
   "codemirror_mode": {
    "name": "ipython",
    "version": 3
   },
   "file_extension": ".py",
   "mimetype": "text/x-python",
   "name": "python",
   "nbconvert_exporter": "python",
   "pygments_lexer": "ipython3",
   "version": "3.8.13"
  }
 },
 "nbformat": 4,
 "nbformat_minor": 2
}
